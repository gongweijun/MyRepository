{
  "nbformat": 4,
  "nbformat_minor": 0,
  "metadata": {
    "kernelspec": {
      "display_name": "Python 3",
      "language": "python",
      "name": "python3"
    },
    "language_info": {
      "codemirror_mode": {
        "name": "ipython",
        "version": 3
      },
      "file_extension": ".py",
      "mimetype": "text/x-python",
      "name": "python",
      "nbconvert_exporter": "python",
      "pygments_lexer": "ipython3",
      "version": "3.5.4"
    },
    "colab": {
      "name": "02_线性分类器之MNIST手写数字识别.ipynb",
      "provenance": []
    }
  },
  "cells": [
    {
      "cell_type": "code",
      "metadata": {
        "id": "Pj3aXR9-qpAz",
        "colab_type": "code",
        "colab": {}
      },
      "source": [
        "from __future__ import absolute_import\n",
        "from __future__ import division\n",
        "from __future__ import print_function\n",
        "\n",
        "import tensorflow as tf\n",
        "from tensorflow.examples.tutorials.mnist import input_data\n",
        "\n",
        "import numpy as np\n",
        "\n",
        "import pylab\n",
        "%matplotlib inline"
      ],
      "execution_count": 0,
      "outputs": []
    },
    {
      "cell_type": "code",
      "metadata": {
        "id": "PtVPK-nwqpA5",
        "colab_type": "code",
        "colab": {}
      },
      "source": [
        "tf.reset_default_graph()\n",
        "sess = tf.Session()"
      ],
      "execution_count": 0,
      "outputs": []
    },
    {
      "cell_type": "markdown",
      "metadata": {
        "id": "BTFxF1msqpAx",
        "colab_type": "text"
      },
      "source": [
        "本Workshop是用于在MNIST上训练线性分类器的代码。和上一个WorkShop的主要变化是：\n",
        "\n",
        "我们已经从回归转向分类。\n",
        "\n",
        "我们正在使用不同的损失函数。现在我们不使用平方误差，而是使用交叉熵。\n",
        "\n",
        "我们正在使用一个新的数据集。 MNIST包含28x28像素的手写数字。\n",
        "\n",
        "一个重要的要点：请注意，尽管进行了这些更改，但创建渐变下降优化器的线条与上一个笔记本相同。这是TensorFlow的作用。一旦我们定义了数据流图和损失函数，TensorFlow就能够为我们分析它，并确定如何调整我们的变量以减小损失函数。\n",
        "\n",
        "我们在这里训练的模型在准确性方面并不令人满意。目的是向您介绍数据集。最后是一个简短的练习。\n",
        "\n",
        "\n",
        "当你完成本WorkShop后，继续下一步，将我们的线性分类器修改为深度神经网络，并添加代码在TensorBoard中观察训练过程"
      ]
    },
    {
      "cell_type": "code",
      "metadata": {
        "scrolled": true,
        "id": "GQ7utlBmqpA8",
        "colab_type": "code",
        "outputId": "cae6eee4-fbd0-4356-fd34-7cf17b3cc696",
        "colab": {
          "base_uri": "https://localhost:8080/",
          "height": 550
        }
      },
      "source": [
        "# Import the MNIST dataset. \n",
        "# It will be downloaded to '/tmp/data' if you don't already have a local copy.\n",
        "mnist = input_data.read_data_sets('/tmp/data', one_hot=True)"
      ],
      "execution_count": 0,
      "outputs": [
        {
          "output_type": "stream",
          "text": [
            "WARNING:tensorflow:From <ipython-input-3-556c649dc745>:1: read_data_sets (from tensorflow.contrib.learn.python.learn.datasets.mnist) is deprecated and will be removed in a future version.\n",
            "Instructions for updating:\n",
            "Please use alternatives such as official/mnist/dataset.py from tensorflow/models.\n",
            "WARNING:tensorflow:From /usr/local/lib/python3.6/dist-packages/tensorflow_core/contrib/learn/python/learn/datasets/mnist.py:260: maybe_download (from tensorflow.contrib.learn.python.learn.datasets.base) is deprecated and will be removed in a future version.\n",
            "Instructions for updating:\n",
            "Please write your own downloading logic.\n",
            "WARNING:tensorflow:From /usr/local/lib/python3.6/dist-packages/tensorflow_core/contrib/learn/python/learn/datasets/base.py:252: _internal_retry.<locals>.wrap.<locals>.wrapped_fn (from tensorflow.contrib.learn.python.learn.datasets.base) is deprecated and will be removed in a future version.\n",
            "Instructions for updating:\n",
            "Please use urllib or similar directly.\n",
            "Successfully downloaded train-images-idx3-ubyte.gz 9912422 bytes.\n",
            "WARNING:tensorflow:From /usr/local/lib/python3.6/dist-packages/tensorflow_core/contrib/learn/python/learn/datasets/mnist.py:262: extract_images (from tensorflow.contrib.learn.python.learn.datasets.mnist) is deprecated and will be removed in a future version.\n",
            "Instructions for updating:\n",
            "Please use tf.data to implement this functionality.\n",
            "Extracting /tmp/data/train-images-idx3-ubyte.gz\n",
            "Successfully downloaded train-labels-idx1-ubyte.gz 28881 bytes.\n",
            "WARNING:tensorflow:From /usr/local/lib/python3.6/dist-packages/tensorflow_core/contrib/learn/python/learn/datasets/mnist.py:267: extract_labels (from tensorflow.contrib.learn.python.learn.datasets.mnist) is deprecated and will be removed in a future version.\n",
            "Instructions for updating:\n",
            "Please use tf.data to implement this functionality.\n",
            "Extracting /tmp/data/train-labels-idx1-ubyte.gz\n",
            "WARNING:tensorflow:From /usr/local/lib/python3.6/dist-packages/tensorflow_core/contrib/learn/python/learn/datasets/mnist.py:110: dense_to_one_hot (from tensorflow.contrib.learn.python.learn.datasets.mnist) is deprecated and will be removed in a future version.\n",
            "Instructions for updating:\n",
            "Please use tf.one_hot on tensors.\n",
            "Successfully downloaded t10k-images-idx3-ubyte.gz 1648877 bytes.\n",
            "Extracting /tmp/data/t10k-images-idx3-ubyte.gz\n",
            "Successfully downloaded t10k-labels-idx1-ubyte.gz 4542 bytes.\n",
            "Extracting /tmp/data/t10k-labels-idx1-ubyte.gz\n",
            "WARNING:tensorflow:From /usr/local/lib/python3.6/dist-packages/tensorflow_core/contrib/learn/python/learn/datasets/mnist.py:290: DataSet.__init__ (from tensorflow.contrib.learn.python.learn.datasets.mnist) is deprecated and will be removed in a future version.\n",
            "Instructions for updating:\n",
            "Please use alternatives such as official/mnist/dataset.py from tensorflow/models.\n"
          ],
          "name": "stdout"
        }
      ]
    },
    {
      "cell_type": "code",
      "metadata": {
        "scrolled": false,
        "id": "IOyuKKGSqpA_",
        "colab_type": "code",
        "outputId": "3fb40870-707d-4c31-f2e9-516af6e9a8c4",
        "colab": {
          "base_uri": "https://localhost:8080/",
          "height": 366
        }
      },
      "source": [
        "#Uncomment these lines to understand the format of the dataset.\n",
        "\n",
        "#1.训练集，验证集，测试集\n",
        "print ('Train, validation, test: %d, %d, %d' % \n",
        "      (len(mnist.train.images), len(mnist.validation.images), len(mnist.test.images)))\n",
        "\n",
        "#labels的值\n",
        "print (mnist.train.labels[4])\n",
        "\n",
        "#You can find the index of the label, like this:\n",
        "print (np.argmax(mnist.train.labels[4]))\n",
        "\n",
        "#3. An image is a 'flattened' array of 28*28 = 784 pixels.\n",
        "print (len(mnist.train.images[4]))\n",
        "\n",
        "#4. To display an image, first reshape it to 28x28.\n",
        "pylab.imshow(mnist.train.images[4].reshape((28,28)), cmap=pylab.cm.gray_r)   \n",
        "pylab.title('Label: %d' % np.argmax(mnist.train.labels[4])) "
      ],
      "execution_count": 0,
      "outputs": [
        {
          "output_type": "stream",
          "text": [
            "Train, validation, test: 55000, 5000, 10000\n",
            "[0. 1. 0. 0. 0. 0. 0. 0. 0. 0.]\n",
            "1\n",
            "784\n"
          ],
          "name": "stdout"
        },
        {
          "output_type": "execute_result",
          "data": {
            "text/plain": [
              "Text(0.5, 1.0, 'Label: 1')"
            ]
          },
          "metadata": {
            "tags": []
          },
          "execution_count": 4
        },
        {
          "output_type": "display_data",
          "data": {
            "image/png": "[encoded data removed]",
            "text/plain": [
              "<Figure size 432x288 with 1 Axes>"
            ]
          },
          "metadata": {
            "tags": []
          }
        }
      ]
    },
    {
      "cell_type": "code",
      "metadata": {
        "id": "SDv8GGmjqpBC",
        "colab_type": "code",
        "colab": {}
      },
      "source": [
        "NUM_CLASSES = 10\n",
        "NUM_PIXELS = 28 * 28\n",
        "TRAIN_STEPS = 2000\n",
        "BATCH_SIZE = 100\n",
        "LEARNING_RATE = 0.5"
      ],
      "execution_count": 0,
      "outputs": []
    },
    {
      "cell_type": "code",
      "metadata": {
        "id": "m-nPvvfiqpBF",
        "colab_type": "code",
        "colab": {}
      },
      "source": [
        "# 定义输入\n",
        "images = tf.placeholder(dtype=tf.float32, shape=[None, NUM_PIXELS])\n",
        "labels = tf.placeholder(dtype=tf.float32, shape=[None, NUM_CLASSES])"
      ],
      "execution_count": 0,
      "outputs": []
    },
    {
      "cell_type": "code",
      "metadata": {
        "id": "Rx27L7vwqpBJ",
        "colab_type": "code",
        "colab": {}
      },
      "source": [
        "# 定义模型\n",
        "W = tf.Variable(tf.truncated_normal([NUM_PIXELS, NUM_CLASSES]))\n",
        "b = tf.Variable(tf.zeros([NUM_CLASSES]))\n",
        "y = tf.matmul(images, W) + b"
      ],
      "execution_count": 0,
      "outputs": []
    },
    {
      "cell_type": "code",
      "metadata": {
        "id": "eVxjzNY3qpBM",
        "colab_type": "code",
        "colab": {}
      },
      "source": [
        "# 定义优化器与损失函数\n",
        "loss = tf.reduce_mean(tf.nn.softmax_cross_entropy_with_logits_v2(logits=y, labels=labels))\n",
        "train_step = tf.train.GradientDescentOptimizer(LEARNING_RATE).minimize(loss) "
      ],
      "execution_count": 0,
      "outputs": []
    },
    {
      "cell_type": "code",
      "metadata": {
        "id": "C6BdT1wZqpBO",
        "colab_type": "code",
        "colab": {}
      },
      "source": [
        "# 初始化数据\n",
        "sess.run(tf.global_variables_initializer())"
      ],
      "execution_count": 0,
      "outputs": []
    },
    {
      "cell_type": "code",
      "metadata": {
        "id": "RL5T0cFHqpBS",
        "colab_type": "code",
        "colab": {}
      },
      "source": [
        "# 训练模型\n",
        "for i in range(TRAIN_STEPS):\n",
        "    batch_images, batch_labels = mnist.train.next_batch(BATCH_SIZE)\n",
        "    sess.run(train_step, feed_dict={images: batch_images, labels: batch_labels})"
      ],
      "execution_count": 0,
      "outputs": []
    },
    {
      "cell_type": "code",
      "metadata": {
        "id": "TnczOfmVqpBW",
        "colab_type": "code",
        "outputId": "66afad27-2cbd-4190-aa24-6b4d80febe0b",
        "colab": {
          "base_uri": "https://localhost:8080/",
          "height": 34
        }
      },
      "source": [
        "# 评估训练模型的结果\n",
        "correct_prediction = tf.equal(tf.argmax(y, 1), tf.argmax(labels, 1))\n",
        "accuracy = tf.reduce_mean(tf.cast(correct_prediction, tf.float32))\n",
        "                                  \n",
        "print(\"Accuracy %f\" % sess.run(accuracy, feed_dict={images: mnist.test.images, \n",
        "                                                    labels: mnist.test.labels}))"
      ],
      "execution_count": 0,
      "outputs": [
        {
          "output_type": "stream",
          "text": [
            "Accuracy 0.898900\n"
          ],
          "name": "stdout"
        }
      ]
    },
    {
      "cell_type": "markdown",
      "metadata": {
        "id": "ega76vOnqpBZ",
        "colab_type": "text"
      },
      "source": [
        "下面我们来测试一下我们训练的模型的准确度，下面是测试单张图片的结果"
      ]
    },
    {
      "cell_type": "code",
      "metadata": {
        "id": "Wf6kEAm_qpBa",
        "colab_type": "code",
        "outputId": "9a39b9d6-1140-4ea1-8ad1-be53726d1812",
        "colab": {
          "base_uri": "https://localhost:8080/",
          "height": 303
        }
      },
      "source": [
        "prediction = tf.argmax(y,1)\n",
        "\n",
        "def predict(i):\n",
        "    image = mnist.test.images[i]\n",
        "    actual_label = np.argmax(mnist.test.labels[i])\n",
        "    predicted_label = sess.run(prediction, feed_dict={images: [image]})\n",
        "    return predicted_label, actual_label\n",
        "\n",
        "i = 0\n",
        "predicted, actual = predict(i)\n",
        "print (\"Predicted: %d, actual: %d\" % (predicted, actual))\n",
        "pylab.imshow(mnist.test.images[i].reshape((28,28)), cmap=pylab.cm.gray_r) "
      ],
      "execution_count": 0,
      "outputs": [
        {
          "output_type": "stream",
          "text": [
            "Predicted: 7, actual: 7\n"
          ],
          "name": "stdout"
        },
        {
          "output_type": "execute_result",
          "data": {
            "text/plain": [
              "<matplotlib.image.AxesImage at 0x7f83ecd2a470>"
            ]
          },
          "metadata": {
            "tags": []
          },
          "execution_count": 12
        },
        {
          "output_type": "display_data",
          "data": {
            "image/png": "[encoded data removed]",
            "text/plain": [
              "<Figure size 432x288 with 1 Axes>"
            ]
          },
          "metadata": {
            "tags": []
          }
        }
      ]
    },
    {
      "cell_type": "code",
      "metadata": {
        "id": "G5QlgnL1qpBg",
        "colab_type": "code",
        "colab": {}
      },
      "source": [
        ""
      ],
      "execution_count": 0,
      "outputs": []
    },
    {
      "cell_type": "code",
      "metadata": {
        "id": "mX5ExmxlqpBj",
        "colab_type": "code",
        "colab": {}
      },
      "source": [
        ""
      ],
      "execution_count": 0,
      "outputs": []
    },
    {
      "cell_type": "code",
      "metadata": {
        "id": "3Py6jSyxqpBn",
        "colab_type": "code",
        "colab": {}
      },
      "source": [
        ""
      ],
      "execution_count": 0,
      "outputs": []
    }
  ]
}